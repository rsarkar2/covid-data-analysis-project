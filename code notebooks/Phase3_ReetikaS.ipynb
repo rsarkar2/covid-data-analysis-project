{
 "cells": [
  {
   "cell_type": "markdown",
   "id": "6e3658ec",
   "metadata": {},
   "source": [
    "# Stage III (Distributions and Hypothesis Testing)\n",
    "\n",
    "## Team 4: Member task (Reetika Sarkar)\n",
    "\n",
    "### Task 1: Use state data to fit a distribution to COVID-19 new cases."
   ]
  },
  {
   "cell_type": "markdown",
   "id": "ed67d037",
   "metadata": {},
   "source": [
    "Import required libraries."
   ]
  },
  {
   "cell_type": "code",
   "execution_count": 1,
   "id": "e6ffe6f6",
   "metadata": {},
   "outputs": [],
   "source": [
    "import os\n",
    "import numpy as np\n",
    "import pandas as pd\n",
    "import matplotlib.pyplot as plt\n",
    "import scipy.stats as st\n",
    "from datetime import datetime\n",
    "import plotly.express as px\n",
    "import plotly.graph_objects as go\n",
    "import plotly.io as pio\n",
    "\n",
    "from IPython.display import Image"
   ]
  },
  {
   "cell_type": "markdown",
   "id": "e6b0d330",
   "metadata": {},
   "source": [
    "Read csv files."
   ]
  },
  {
   "cell_type": "code",
   "execution_count": 2,
   "id": "0811863c",
   "metadata": {},
   "outputs": [
    {
     "data": {
      "text/html": [
       "<div>\n",
       "<style scoped>\n",
       "    .dataframe tbody tr th:only-of-type {\n",
       "        vertical-align: middle;\n",
       "    }\n",
       "\n",
       "    .dataframe tbody tr th {\n",
       "        vertical-align: top;\n",
       "    }\n",
       "\n",
       "    .dataframe thead th {\n",
       "        text-align: right;\n",
       "    }\n",
       "</style>\n",
       "<table border=\"1\" class=\"dataframe\">\n",
       "  <thead>\n",
       "    <tr style=\"text-align: right;\">\n",
       "      <th></th>\n",
       "      <th>AZ</th>\n",
       "      <th>CO</th>\n",
       "      <th>GA</th>\n",
       "      <th>MI</th>\n",
       "      <th>NC</th>\n",
       "      <th>WA</th>\n",
       "    </tr>\n",
       "    <tr>\n",
       "      <th>week</th>\n",
       "      <th></th>\n",
       "      <th></th>\n",
       "      <th></th>\n",
       "      <th></th>\n",
       "      <th></th>\n",
       "      <th></th>\n",
       "    </tr>\n",
       "  </thead>\n",
       "  <tbody>\n",
       "    <tr>\n",
       "      <th>2020-01-26</th>\n",
       "      <td>0.0</td>\n",
       "      <td>0.0</td>\n",
       "      <td>0.0</td>\n",
       "      <td>0.0</td>\n",
       "      <td>0.0</td>\n",
       "      <td>0.000000</td>\n",
       "    </tr>\n",
       "    <tr>\n",
       "      <th>2020-02-02</th>\n",
       "      <td>0.0</td>\n",
       "      <td>0.0</td>\n",
       "      <td>0.0</td>\n",
       "      <td>0.0</td>\n",
       "      <td>0.0</td>\n",
       "      <td>0.000000</td>\n",
       "    </tr>\n",
       "    <tr>\n",
       "      <th>2020-02-09</th>\n",
       "      <td>0.0</td>\n",
       "      <td>0.0</td>\n",
       "      <td>0.0</td>\n",
       "      <td>0.0</td>\n",
       "      <td>0.0</td>\n",
       "      <td>0.000000</td>\n",
       "    </tr>\n",
       "    <tr>\n",
       "      <th>2020-02-16</th>\n",
       "      <td>0.0</td>\n",
       "      <td>0.0</td>\n",
       "      <td>0.0</td>\n",
       "      <td>0.0</td>\n",
       "      <td>0.0</td>\n",
       "      <td>0.000000</td>\n",
       "    </tr>\n",
       "    <tr>\n",
       "      <th>2020-02-23</th>\n",
       "      <td>0.0</td>\n",
       "      <td>0.0</td>\n",
       "      <td>0.0</td>\n",
       "      <td>0.0</td>\n",
       "      <td>0.0</td>\n",
       "      <td>0.013132</td>\n",
       "    </tr>\n",
       "  </tbody>\n",
       "</table>\n",
       "</div>"
      ],
      "text/plain": [
       "             AZ   CO   GA   MI   NC        WA\n",
       "week                                         \n",
       "2020-01-26  0.0  0.0  0.0  0.0  0.0  0.000000\n",
       "2020-02-02  0.0  0.0  0.0  0.0  0.0  0.000000\n",
       "2020-02-09  0.0  0.0  0.0  0.0  0.0  0.000000\n",
       "2020-02-16  0.0  0.0  0.0  0.0  0.0  0.000000\n",
       "2020-02-23  0.0  0.0  0.0  0.0  0.0  0.013132"
      ]
     },
     "execution_count": 2,
     "metadata": {},
     "output_type": "execute_result"
    }
   ],
   "source": [
    "f_cases = pd.read_csv(\"../../../../data/stage_3/states_newcases.csv\")\n",
    "f_cases.set_index('week', inplace=True)\n",
    "f_cases.head()"
   ]
  },
  {
   "cell_type": "code",
   "execution_count": 3,
   "id": "addfa5ad",
   "metadata": {},
   "outputs": [
    {
     "data": {
      "text/html": [
       "<div>\n",
       "<style scoped>\n",
       "    .dataframe tbody tr th:only-of-type {\n",
       "        vertical-align: middle;\n",
       "    }\n",
       "\n",
       "    .dataframe tbody tr th {\n",
       "        vertical-align: top;\n",
       "    }\n",
       "\n",
       "    .dataframe thead th {\n",
       "        text-align: right;\n",
       "    }\n",
       "</style>\n",
       "<table border=\"1\" class=\"dataframe\">\n",
       "  <thead>\n",
       "    <tr style=\"text-align: right;\">\n",
       "      <th></th>\n",
       "      <th>AZ</th>\n",
       "      <th>CO</th>\n",
       "      <th>GA</th>\n",
       "      <th>MI</th>\n",
       "      <th>NC</th>\n",
       "      <th>WA</th>\n",
       "    </tr>\n",
       "    <tr>\n",
       "      <th>week</th>\n",
       "      <th></th>\n",
       "      <th></th>\n",
       "      <th></th>\n",
       "      <th></th>\n",
       "      <th></th>\n",
       "      <th></th>\n",
       "    </tr>\n",
       "  </thead>\n",
       "  <tbody>\n",
       "    <tr>\n",
       "      <th>2020-01-26</th>\n",
       "      <td>0.0</td>\n",
       "      <td>0.0</td>\n",
       "      <td>0.0</td>\n",
       "      <td>0.0</td>\n",
       "      <td>0.0</td>\n",
       "      <td>0.0</td>\n",
       "    </tr>\n",
       "    <tr>\n",
       "      <th>2020-02-02</th>\n",
       "      <td>0.0</td>\n",
       "      <td>0.0</td>\n",
       "      <td>0.0</td>\n",
       "      <td>0.0</td>\n",
       "      <td>0.0</td>\n",
       "      <td>0.0</td>\n",
       "    </tr>\n",
       "    <tr>\n",
       "      <th>2020-02-09</th>\n",
       "      <td>0.0</td>\n",
       "      <td>0.0</td>\n",
       "      <td>0.0</td>\n",
       "      <td>0.0</td>\n",
       "      <td>0.0</td>\n",
       "      <td>0.0</td>\n",
       "    </tr>\n",
       "    <tr>\n",
       "      <th>2020-02-16</th>\n",
       "      <td>0.0</td>\n",
       "      <td>0.0</td>\n",
       "      <td>0.0</td>\n",
       "      <td>0.0</td>\n",
       "      <td>0.0</td>\n",
       "      <td>0.0</td>\n",
       "    </tr>\n",
       "    <tr>\n",
       "      <th>2020-02-23</th>\n",
       "      <td>0.0</td>\n",
       "      <td>0.0</td>\n",
       "      <td>0.0</td>\n",
       "      <td>0.0</td>\n",
       "      <td>0.0</td>\n",
       "      <td>0.0</td>\n",
       "    </tr>\n",
       "  </tbody>\n",
       "</table>\n",
       "</div>"
      ],
      "text/plain": [
       "             AZ   CO   GA   MI   NC   WA\n",
       "week                                    \n",
       "2020-01-26  0.0  0.0  0.0  0.0  0.0  0.0\n",
       "2020-02-02  0.0  0.0  0.0  0.0  0.0  0.0\n",
       "2020-02-09  0.0  0.0  0.0  0.0  0.0  0.0\n",
       "2020-02-16  0.0  0.0  0.0  0.0  0.0  0.0\n",
       "2020-02-23  0.0  0.0  0.0  0.0  0.0  0.0"
      ]
     },
     "execution_count": 3,
     "metadata": {},
     "output_type": "execute_result"
    }
   ],
   "source": [
    "f_deaths = pd.read_csv(\"../../../../data/stage_3/states_newdeaths.csv\")\n",
    "f_deaths.set_index('week', inplace=True)\n",
    "f_deaths.head()"
   ]
  },
  {
   "cell_type": "markdown",
   "id": "c1288cc8",
   "metadata": {},
   "source": [
    "Generate distribution statistics for cases in NC and plot the distribution."
   ]
  },
  {
   "cell_type": "code",
   "execution_count": 4,
   "id": "dc2b4f65",
   "metadata": {},
   "outputs": [
    {
     "name": "stdout",
     "output_type": "stream",
     "text": [
      "min       0.00\n",
      "max     281.68\n",
      "mean     31.72\n",
      "std      47.75\n",
      "Name: NC, dtype: float64\n",
      "skewness: 3.5238304847141193\n",
      "kurtosis: 13.805685047332169\n"
     ]
    }
   ],
   "source": [
    "#distribution statistics for NC \n",
    "print(f_cases['NC'].agg(['min','max','mean','std']).round(decimals=2))\n",
    "print(\"skewness:\", st.skew(f_cases.NC, bias=False))\n",
    "print(\"kurtosis:\", st.kurtosis(f_cases.NC, bias=False))"
   ]
  },
  {
   "cell_type": "markdown",
   "id": "5eaef3fe",
   "metadata": {},
   "source": [
    "The distribution statistics for the state of NC are:\n",
    "* min      : 0\n",
    "* max      : 281.68\n",
    "* mean     : 31.72\n",
    "* std      : 47.75\n",
    "* skewness : 3.52\n",
    "* kurtosis : 13.81\n",
    "\n",
    "The data is skewed to the right and has a tall peak (compared to a standard normal distribution). The mean number of new cases are 32."
   ]
  },
  {
   "cell_type": "code",
   "execution_count": 5,
   "id": "80f94b7a",
   "metadata": {},
   "outputs": [
    {
     "data": {
      "text/plain": [
       "<AxesSubplot:>"
      ]
     },
     "execution_count": 5,
     "metadata": {},
     "output_type": "execute_result"
    },
    {
     "data": {
      "image/png": "[encoded data removed]",
      "text/plain": [
       "<Figure size 864x576 with 1 Axes>"
      ]
     },
     "metadata": {
      "needs_background": "light"
     },
     "output_type": "display_data"
    }
   ],
   "source": [
    "f_cases.NC.hist(bins=20, ec='black', figsize=(12,8))"
   ]
  },
  {
   "cell_type": "markdown",
   "id": "db18eb85",
   "metadata": {},
   "source": [
    "* The histogram above is skewed to the right.\n",
    "\n",
    "* Data points are all positive.\n",
    "\n",
    "The histogram above resembles that of a Gamma distribution or Poisson distribution (although the given data is discrete). The x axis represents the counts of new COVID-19 cases while the y-axis represents the frequencies. \n",
    "\n",
    "The distribution appears to be **unimodal** with maximum number of new case counts at 0.\n",
    "\n",
    "In order to fit a Gamma distribution (with estimates of parameters obtained using method of moments), first compute the estimates and then fit using `gamma.pdf()` in `scipy.stats.distributions`."
   ]
  },
  {
   "cell_type": "code",
   "execution_count": 6,
   "id": "517ef2ab",
   "metadata": {},
   "outputs": [
    {
     "name": "stdout",
     "output_type": "stream",
     "text": [
      "Means:\n",
      "AZ    35.243226\n",
      "CO    29.864717\n",
      "GA    22.811917\n",
      "MI    30.395326\n",
      "NC    31.723513\n",
      "WA    24.132204\n",
      "dtype: float64\n",
      "Variances:\n",
      "AZ    2430.250785\n",
      "CO    1576.869177\n",
      "GA     795.999649\n",
      "MI    1559.451064\n",
      "NC    2279.854974\n",
      "WA    1710.163913\n",
      "dtype: float64\n"
     ]
    }
   ],
   "source": [
    "#compute mean and variances of all the states (sample)\n",
    "cases_means = f_cases.mean()\n",
    "print(\"Means:\")\n",
    "print(cases_means)\n",
    "\n",
    "cases_var = f_cases.var()\n",
    "print(\"Variances:\")\n",
    "print(cases_var)"
   ]
  },
  {
   "cell_type": "code",
   "execution_count": 7,
   "id": "adbcc78c",
   "metadata": {},
   "outputs": [
    {
     "name": "stdout",
     "output_type": "stream",
     "text": [
      "AZ    0.511093\n",
      "CO    0.565615\n",
      "GA    0.653748\n",
      "MI    0.592437\n",
      "NC    0.441423\n",
      "WA    0.340531\n",
      "dtype: float64\n",
      "AZ    68.956535\n",
      "CO    52.800406\n",
      "GA    34.894027\n",
      "MI    51.305621\n",
      "NC    71.866410\n",
      "WA    70.866462\n",
      "dtype: float64\n"
     ]
    }
   ],
   "source": [
    "#compute alpha and beta estimates for each state using Method of Moments\n",
    "alpha_mom_cases = cases_means ** 2/cases_var\n",
    "beta_mom_cases = cases_var/cases_means\n",
    "print(alpha_mom_cases)\n",
    "print(beta_mom_cases)"
   ]
  },
  {
   "cell_type": "code",
   "execution_count": 8,
   "id": "28faf3ac",
   "metadata": {},
   "outputs": [
    {
     "data": {
      "text/plain": [
       "[<matplotlib.lines.Line2D at 0x22429c52250>]"
      ]
     },
     "execution_count": 8,
     "metadata": {},
     "output_type": "execute_result"
    },
    {
     "data": {
      "image/png": "[encoded data removed]",
      "text/plain": [
       "<Figure size 864x576 with 1 Axes>"
      ]
     },
     "metadata": {
      "needs_background": "light"
     },
     "output_type": "display_data"
    }
   ],
   "source": [
    "from scipy.stats.distributions import gamma\n",
    "\n",
    "#plot for NC\n",
    "f_cases['NC'].hist(density=True, bins=15, ec='black', figsize=(12,8))\n",
    "label = 'alpha = {0:.2f}\\nbeta = {1:.2f}'.format(alpha_mom_cases[4], beta_mom_cases[4])\n",
    "plt.annotate(label, xy=(175,0.020))\n",
    "plt.title('Distribution of new cases in NC')\n",
    "plt.xlabel('New cases')\n",
    "plt.ylabel('probabilities')\n",
    "plt.plot(np.linspace(0,280), gamma.pdf(np.linspace(0,280), alpha_mom_cases[4], beta_mom_cases[4]))"
   ]
  },
  {
   "cell_type": "markdown",
   "id": "8dc487b6",
   "metadata": {},
   "source": [
    "The plot for the distribution of new cases in NC was made over the range of minimum and maximum cases. The fitted Gamma distribution with parameter estimates obtained using Method of Moments as alpha=0.44 and beta=71.87 does not fit the data well. It could be due to the data being discrete while the theoretical distribution is continuous. The peak for Gamma distribution is much to the right of the data values."
   ]
  },
  {
   "cell_type": "markdown",
   "id": "84e6f39d",
   "metadata": {},
   "source": [
    "**Compare the distribution to five other states and draw inferences.**"
   ]
  },
  {
   "cell_type": "code",
   "execution_count": 9,
   "id": "0adff0e4",
   "metadata": {},
   "outputs": [
    {
     "name": "stdout",
     "output_type": "stream",
     "text": [
      "          AZ      CO      GA      MI      NC      WA\n",
      "min     0.00    0.00    0.00    0.00    0.00    0.00\n",
      "max   272.34  238.23  180.15  205.42  281.68  266.20\n",
      "mean   35.24   29.86   22.81   30.40   31.72   24.13\n",
      "std    49.30   39.71   28.21   39.49   47.75   41.35\n",
      "skewness: [2.92277666 3.10518715 2.8291612  2.53167592 3.52383048 4.06294879]\n",
      "kurtosis: [ 9.74475274 11.70021266 10.54949935  7.58589684 13.80568505 17.89929413]\n"
     ]
    }
   ],
   "source": [
    "#distribution statistics for new cases in selected states\n",
    "print(f_cases.agg(['min','max','mean','std']).round(decimals=2))\n",
    "print(\"skewness:\", st.skew(f_cases, bias=False))\n",
    "print(\"kurtosis:\", st.kurtosis(f_cases, bias=False))"
   ]
  },
  {
   "cell_type": "code",
   "execution_count": 10,
   "id": "595a14f9",
   "metadata": {},
   "outputs": [
    {
     "data": {
      "image/png": "[encoded data removed]",
      "text/plain": [
       "<Figure size 864x576 with 6 Axes>"
      ]
     },
     "metadata": {
      "needs_background": "light"
     },
     "output_type": "display_data"
    }
   ],
   "source": [
    "#plots of distribution of new cases for all chosen states\n",
    "\n",
    "axs = f_cases.hist(density=True, bins=20, ec='black', figsize=(12,8),sharex=True,sharey=True,grid=False)\n",
    "\n",
    "for ax in axs.ravel():\n",
    "    #Get state\n",
    "    s = ax.get_title()\n",
    "    \n",
    "    #Plot fitted distribution\n",
    "    x = np.linspace(0,270)\n",
    "    ax.plot(x, gamma.pdf(x, alpha_mom_cases[s], beta_mom_cases[s]))\n",
    "    \n",
    "    #Annotate with parameter estimates\n",
    "    label = 'alpha = {0:.2f}\\nbeta = {1:.2f}'.format(alpha_mom_cases[s], beta_mom_cases[s])\n",
    "    ax.annotate(label, xy=(175,0.025))\n",
    "    \n",
    "plt.tight_layout()"
   ]
  },
  {
   "cell_type": "markdown",
   "id": "4516dcc2",
   "metadata": {},
   "source": [
    "* Maximum number of new cases recorded in Arizona, Colorado and Washington are similar to North Carolina. Georgia and Michigan have lower maximum values.\n",
    "* Barring Arizona, all other states have mean number of new cases lower than NC.\n",
    "* The standard deviation of new cases is higher in NC than that in CO, GA, MI and WA while AZ has a higher standard deviation than NC.\n",
    "* All the state datasets are skewed to the right with NC and WA having higher level of skewness than others.\n",
    "* NC and WA also have the highest levels of kurtosis.\n",
    "* From the plots above it can be seen that or each of the chosen states, Gamma distribution is not a good fit. The parameters for fitting each state's data were the estimates obtained using Method of Moments. All states have peaks much further away from the actual peak in the data. These indicate that Gamma distribution is not appropriate to fit the counts of new COVID-19 cases.\n",
    "\n",
    "These estimates could be improved somewhat by using Maximum Likelihood estimates but they are not likely to show a significant improvement in fit owing to the inconsistencies in the nature of actual data (discrete counts) versus the distribution used to fit (continuous). Poisson distribution which models counts for rare events seems to be an appropriate model to fit the given data."
   ]
  },
  {
   "cell_type": "markdown",
   "id": "693b60b7",
   "metadata": {},
   "source": [
    "### Task 2: Model a Poisson distribution on new COVID-19 cases and deaths for all states. Describe how it is different from model worked first."
   ]
  },
  {
   "cell_type": "markdown",
   "id": "4eac9701",
   "metadata": {},
   "source": [
    "For fitting Poisson distribution, we need to first compute the parameter estimates ($\\lambda$ in Poisson distribution). These estimates are computed using Method of Moments, i.e., the sample mean for each state. These estimates can be used to fit the theoretical probability distribution. The theoretical probabilities can be computed using `poisson.pmf` in `scipy.stats.poisson`."
   ]
  },
  {
   "cell_type": "code",
   "execution_count": 11,
   "id": "e9333f85",
   "metadata": {},
   "outputs": [
    {
     "name": "stdout",
     "output_type": "stream",
     "text": [
      "AZ    0.491352\n",
      "CO    0.267027\n",
      "GA    0.407394\n",
      "MI    0.441240\n",
      "NC    0.270927\n",
      "WA    0.193390\n",
      "dtype: float64\n",
      "AZ    35.243226\n",
      "CO    29.864717\n",
      "GA    22.811917\n",
      "MI    30.395326\n",
      "NC    31.723513\n",
      "WA    24.132204\n",
      "dtype: float64\n"
     ]
    }
   ],
   "source": [
    "#compute mean deaths for each of the selected states and \n",
    "#use them as respective lambda values for Poisson distribution fitting\n",
    "deaths_means = f_deaths.mean()\n",
    "lam_deaths = deaths_means\n",
    "print(lam_deaths)\n",
    "\n",
    "#use means of new cases for states as respective lambda values for Poisson distribution fitting\n",
    "lam_cases = cases_means\n",
    "print(lam_cases)"
   ]
  },
  {
   "cell_type": "code",
   "execution_count": 12,
   "id": "3ce946be",
   "metadata": {},
   "outputs": [
    {
     "data": {
      "image/png": "[encoded data removed]",
      "text/plain": [
       "<Figure size 864x576 with 6 Axes>"
      ]
     },
     "metadata": {
      "needs_background": "light"
     },
     "output_type": "display_data"
    }
   ],
   "source": [
    "#plots of distribution of new cases for all chosen states\n",
    "\n",
    "from scipy.stats import poisson\n",
    "\n",
    "axs = f_cases.hist(density=True, bins=np.arange(poisson.ppf(0.001,lam_cases.AZ),poisson.ppf(0.99995,lam_cases.AZ)), ec='black', figsize=(12,8), sharex=True, sharey=True, grid=False)\n",
    "\n",
    "for ax in axs.ravel():\n",
    "    #Get state\n",
    "    s = ax.get_title()\n",
    "    \n",
    "    #Plot fitted distribution\n",
    "    x=np.arange(poisson.ppf(0.001,lam_cases[s]),poisson.ppf(0.99995,lam_cases[s]))\n",
    "    ax.plot(x, poisson.pmf(x, lam_cases[s]))\n",
    "    \n",
    "    #Annotate with parameter estimates\n",
    "    label = 'lambda = {0:.2f}'.format(lam_cases[s])\n",
    "    ax.annotate(label, xy=(40,0.125))\n",
    "    \n",
    "plt.tight_layout()"
   ]
  },
  {
   "cell_type": "markdown",
   "id": "96c9549c",
   "metadata": {},
   "source": [
    "* The graphs above show that Poisson model fits the distribution of new COVID-19 cases better than Gamma distribution. \n",
    "* The peaks for theoretical probabilities for all states resemble those of the actual sample observations.\n",
    "* The peaks of the Poisson probabilities are however, not exactly the same as the peaks in the histogram of data points. This could be due to high variance in the new cases counts (as can be seen from the summary of descriptive statistics of the chosen states). Poisson distribution fits well when mean and variance are very close to each other which is not true for the new COVID-19 cases."
   ]
  },
  {
   "cell_type": "code",
   "execution_count": 13,
   "id": "ee2a2736",
   "metadata": {},
   "outputs": [
    {
     "name": "stdout",
     "output_type": "stream",
     "text": [
      "        AZ    CO    GA    MI    NC    WA\n",
      "min   0.00  0.00  0.00  0.00  0.00 -0.04\n",
      "max   2.38  1.29  3.45  1.36  0.95  0.84\n",
      "mean  0.49  0.27  0.41  0.44  0.27  0.19\n",
      "std   0.50  0.26  0.41  0.40  0.23  0.15\n",
      "skewness: [1.78161602 1.5487252  4.194952   0.85314833 1.22928521 1.34608844]\n",
      "kurtosis: [ 3.18878367  2.52478214 28.06705754 -0.46896707  0.80780915  2.14433921]\n"
     ]
    }
   ],
   "source": [
    "#distribution statistics for COVID-19 deaths in selected states\n",
    "print(f_deaths.agg(['min','max','mean','std']).round(decimals=2))\n",
    "print(\"skewness:\", st.skew(f_deaths, bias=False))\n",
    "print(\"kurtosis:\", st.kurtosis(f_deaths, bias=False))"
   ]
  },
  {
   "cell_type": "markdown",
   "id": "ea277112",
   "metadata": {},
   "source": [
    "The minimum and maximum of number of deaths can be used to model the Poisson distribution for deaths.\n",
    "\n",
    "* It can also be seen that mean deaths per 100,000 persons are high in AZ, MI and GA. \n",
    "* The standard deviations of deaths are closer to mean values for all states chosen when compared with the data pertaining to new COVID-19 cases. This indicates that Poisson model might be a good fit to this data."
   ]
  },
  {
   "cell_type": "code",
   "execution_count": 14,
   "id": "093456d7",
   "metadata": {},
   "outputs": [
    {
     "data": {
      "image/png": "[encoded data removed]",
      "text/plain": [
       "<Figure size 864x576 with 6 Axes>"
      ]
     },
     "metadata": {
      "needs_background": "light"
     },
     "output_type": "display_data"
    }
   ],
   "source": [
    "#plots of distribution of deaths for all chosen states\n",
    "\n",
    "axs = f_deaths.hist(density=True, bins=np.arange(poisson.ppf(0.0001,lam_deaths.AZ),poisson.ppf(0.99995,lam_deaths.AZ)), ec='black', figsize=(12,8), sharex=True, sharey=True, grid=False)\n",
    "\n",
    "for ax in axs.ravel():\n",
    "    #Get state\n",
    "    s = ax.get_title()\n",
    "    \n",
    "    #Plot fitted distribution\n",
    "    x=np.arange(poisson.ppf(0.0001,lam_deaths.AZ),poisson.ppf(0.99995,lam_deaths.AZ))\n",
    "    ax.plot(x, poisson.pmf(x, lam_deaths[s]))\n",
    "    \n",
    "    #Annotate with parameter estimates\n",
    "    label = 'lambda = {0:.2f}'.format(lam_deaths[s])\n",
    "    ax.annotate(label, xy=(2.5,0.6))\n",
    "    \n",
    "plt.tight_layout()"
   ]
  },
  {
   "cell_type": "markdown",
   "id": "4aa47228",
   "metadata": {},
   "source": [
    "* The distribution plots for deaths are fit well by the Poisson distribution. The peaks in the data are aligned with the theoretical probabilities for all the selected states."
   ]
  },
  {
   "cell_type": "markdown",
   "id": "f198f73c",
   "metadata": {},
   "source": [
    "### Task 3: Perform correlation between Enrichment data variables and COVID-19 cases to observe any patterns.\n",
    "\n",
    "* I will compute correlations between COVID-19 data (new cases and deaths) and the enrichment datasets chosen (presidential election results, gubernatorial election results and senate election results.\n",
    "\n",
    "* The election results data takes into account the difference in votes won by Democrats versus Republicans. A negative difference indicates that Republicans won in the state, while a positive difference indicates that Democrats won.\n",
    "\n",
    "* The correlations are computed based on state averages. Although the presidential election results have data for all states, data for senate elections is available for 34 states and data for governor elections is available for 11 states.\n",
    "\n",
    "* After computing the COVID-19 aggregates of new cases and deaths, the suitable data files pertaining to the enrichment datasets are read.\n",
    "\n",
    "* COVID-19 counts are normalized per 100,000 persons in the state. The election results are normalized per 100 persons in the state."
   ]
  },
  {
   "cell_type": "markdown",
   "id": "407c81bc",
   "metadata": {},
   "source": [
    "First compute the statewise means of normalized number of new COVID-19 cases and deaths."
   ]
  },
  {
   "cell_type": "code",
   "execution_count": 15,
   "id": "b4e02aed",
   "metadata": {},
   "outputs": [],
   "source": [
    "f1 = pd.read_csv(\"../../../../data/stage_3/covid_confirmed_usafacts.csv\")\n",
    "f2 = pd.read_csv(\"../../../../data/stage_3/covid_deaths_usafacts.csv\")\n",
    "f3 = pd.read_csv(\"../../../../data/stage_3/covid_county_population_usafacts.csv\")\n",
    "\n",
    "f1.columns = f1.columns.str.replace(' ', '_')\n",
    "f1.columns = f1.columns.str.lower()\n",
    "\n",
    "f2.columns = f2.columns.str.replace(' ', '_')\n",
    "f2.columns = f2.columns.str.lower()\n",
    "\n",
    "f3.columns = f3.columns.str.replace(' ', '_')\n",
    "f3.columns = f3.columns.str.lower()\n",
    "\n",
    "f1_1 = f1[f1['countyfips'] != 0]\n",
    "f2_1 = f2[f2['countyfips'] != 0]\n",
    "f3_1 = f3[f3['countyfips'] != 0]"
   ]
  },
  {
   "cell_type": "code",
   "execution_count": 16,
   "id": "cf8297e8",
   "metadata": {},
   "outputs": [],
   "source": [
    "#state total populations\n",
    "county_pop = f3_1.drop(columns = ['countyfips'])\n",
    "pop_states = county_pop.groupby('state').sum()\n",
    "#convert state total populations to a series\n",
    "p = pop_states.squeeze()"
   ]
  },
  {
   "cell_type": "code",
   "execution_count": 17,
   "id": "7fc72d39",
   "metadata": {},
   "outputs": [
    {
     "name": "stdout",
     "output_type": "stream",
     "text": [
      "state\n",
      "AK    39.395078\n",
      "AL    34.096766\n",
      "AR    34.303161\n",
      "AZ    35.243078\n",
      "CA    27.496285\n",
      "dtype: float64\n"
     ]
    }
   ],
   "source": [
    "#new daily cases for states\n",
    "cases_states = f1_1.drop(columns = ['countyfips','statefips','2020-01-22','2020-01-23','2020-01-24',\n",
    "                                                 '2022-02-06','2022-02-07'])\n",
    "#total cases by state\n",
    "cases_states_total = cases_states.groupby('state').sum()\n",
    "#new daily cases by state\n",
    "new_cases_daily = cases_states_total.diff(axis=1)\n",
    "#delete data for 2020-01-25\n",
    "new_cases_daily = new_cases_daily.drop(columns = ['2020-01-25'])\n",
    "\n",
    "\n",
    "#mean number of new cases by states\n",
    "mean_newcases = new_cases_daily.mean(axis=1)\n",
    "\n",
    "#normalized means per 100,000 persons by state populations\n",
    "norm_mean_newcases = mean_newcases/p*100000\n",
    "print(norm_mean_newcases.head())"
   ]
  },
  {
   "cell_type": "code",
   "execution_count": 18,
   "id": "3ab5fe9f",
   "metadata": {},
   "outputs": [
    {
     "name": "stdout",
     "output_type": "stream",
     "text": [
      "state\n",
      "AK    0.193255\n",
      "AL    0.477466\n",
      "AR    0.435957\n",
      "AZ    0.491223\n",
      "CA    0.273684\n",
      "dtype: float64\n"
     ]
    }
   ],
   "source": [
    "#new deaths for states\n",
    "deaths_states = f2_1.drop(columns = ['countyfips','statefips','2020-01-22','2020-01-23','2020-01-24',\n",
    "                                                 '2022-02-06','2022-02-07'])\n",
    "#total deaths by state\n",
    "deaths_states_total = deaths_states.groupby('state').sum()\n",
    "\n",
    "#new deaths by state\n",
    "new_deaths_daily = deaths_states_total.diff(axis=1)\n",
    "#delete data for 2020-01-25\n",
    "new_deaths_daily = new_deaths_daily.drop(columns = ['2020-01-25'])\n",
    "\n",
    "#mean number of new cases by states\n",
    "mean_deaths = new_deaths_daily.mean(axis=1)\n",
    "\n",
    "#normalized means per 100,000 persons by state populations\n",
    "norm_mean_deaths = mean_deaths/p*100000\n",
    "print(norm_mean_deaths.head())"
   ]
  },
  {
   "cell_type": "markdown",
   "id": "a3c0d505",
   "metadata": {},
   "source": [
    "Read data pertaining to enrichment datasets (2020 election results), normalize counts per 100 persons in the state and compute respective correlations with new COVID-19 cases."
   ]
  },
  {
   "cell_type": "markdown",
   "id": "822042d7",
   "metadata": {},
   "source": [
    "**A) Presidential election results 2020**"
   ]
  },
  {
   "cell_type": "code",
   "execution_count": 19,
   "id": "67a729ab",
   "metadata": {},
   "outputs": [
    {
     "name": "stdout",
     "output_type": "stream",
     "text": [
      "       diff_president_votes\n",
      "state                      \n",
      "DE                    95665\n",
      "DC                   298737\n",
      "FL                  -371686\n",
      "GA                    11779\n",
      "HI                   169266\n"
     ]
    }
   ],
   "source": [
    "president = pd.read_csv(\"../../../../data/stage_3/diff_president_votes_states.csv\")\n",
    "president = president.drop(['total_pop'], axis=1)\n",
    "president.set_index('state', inplace=True)\n",
    "print(president.head())"
   ]
  },
  {
   "cell_type": "code",
   "execution_count": 20,
   "id": "20b86219",
   "metadata": {},
   "outputs": [
    {
     "name": "stdout",
     "output_type": "stream",
     "text": [
      "state\n",
      "AK    -4.987663\n",
      "AL   -12.063995\n",
      "AR   -11.157617\n",
      "AZ     0.143665\n",
      "CA    12.917023\n",
      "Name: diff_president_votes, dtype: float64\n"
     ]
    }
   ],
   "source": [
    "#compute difference in votes between Democrat and Republican party \n",
    "president_votes_norm = president.div(p, axis=0)\n",
    "president_votes_norm = president_votes_norm*100\n",
    "president_votes = president_votes_norm.squeeze()\n",
    "print(president_votes.head())"
   ]
  },
  {
   "cell_type": "code",
   "execution_count": 21,
   "id": "762e844d",
   "metadata": {},
   "outputs": [
    {
     "data": {
      "text/plain": [
       "-0.5656784038553653"
      ]
     },
     "execution_count": 21,
     "metadata": {},
     "output_type": "execute_result"
    }
   ],
   "source": [
    "#correlation between presidential votes in the states and new COVID-19 cases\n",
    "president_votes.corr(norm_mean_newcases)"
   ]
  },
  {
   "cell_type": "code",
   "execution_count": 22,
   "id": "cd574500",
   "metadata": {},
   "outputs": [
    {
     "data": {
      "text/plain": [
       "-0.3412439360532439"
      ]
     },
     "execution_count": 22,
     "metadata": {},
     "output_type": "execute_result"
    }
   ],
   "source": [
    "#correlation between presidential votes in the states and COVID-19 deaths\n",
    "president_votes.corr(norm_mean_deaths)"
   ]
  },
  {
   "cell_type": "markdown",
   "id": "be040108",
   "metadata": {},
   "source": [
    "**Interpretation:**\n",
    "\n",
    "* Correlation coefficient between presidential votes in the states and new COVID-19 cases in the US is -0.566. It means that there is a negative linear relationship between difference in votes between Democrat and Republican party, and the incidence of COVID-19 cases. A lower or negative difference (meaning Republicans got more votes) is associated with increase in new cases.\n",
    "\n",
    "* Correlation coefficient between presidential votes in the states and COVID-19 deaths in the US is -0.341. It means that there is a negative linear relationship between difference in votes between Democrat and Republican party, and COVID-19 deaths. A lower or negative difference (meaning Republicans got more votes) is associated with increase in deaths."
   ]
  },
  {
   "cell_type": "markdown",
   "id": "02b7f2b3",
   "metadata": {},
   "source": [
    "**B) Gubernatorial election results 2020**"
   ]
  },
  {
   "cell_type": "code",
   "execution_count": 23,
   "id": "01a042be",
   "metadata": {},
   "outputs": [
    {
     "name": "stdout",
     "output_type": "stream",
     "text": [
      "       diff_votes\n",
      "state            \n",
      "DE         102591\n",
      "IN        -738632\n",
      "MO        -494431\n",
      "MT         -77688\n",
      "NH        -251970\n"
     ]
    }
   ],
   "source": [
    "governor = pd.read_csv(\"../../../../data/stage_3/state_governor_votes.csv\")\n",
    "governor = governor.drop(['state_name','dem_votes','rep_votes'], axis=1)\n",
    "governor.set_index('state', inplace=True)\n",
    "print(governor.head())"
   ]
  },
  {
   "cell_type": "code",
   "execution_count": 24,
   "id": "539255cd",
   "metadata": {},
   "outputs": [
    {
     "name": "stdout",
     "output_type": "stream",
     "text": [
      "state\n",
      "AK   NaN\n",
      "AL   NaN\n",
      "AR   NaN\n",
      "AZ   NaN\n",
      "CA   NaN\n",
      "Name: diff_votes, dtype: float64\n"
     ]
    }
   ],
   "source": [
    "governor_votes_norm = governor.div(p, axis=0)\n",
    "governor_votes_norm = governor_votes_norm*100\n",
    "governor_votes = governor_votes_norm.squeeze()\n",
    "print(governor_votes.head())"
   ]
  },
  {
   "cell_type": "code",
   "execution_count": 25,
   "id": "29b67940",
   "metadata": {},
   "outputs": [
    {
     "data": {
      "text/plain": [
       "0.03136041343671975"
      ]
     },
     "execution_count": 25,
     "metadata": {},
     "output_type": "execute_result"
    }
   ],
   "source": [
    "#correlation between gubernatorial votes in the states and new COVID-19 cases\n",
    "governor_votes.corr(norm_mean_newcases)"
   ]
  },
  {
   "cell_type": "code",
   "execution_count": 26,
   "id": "2199b5c7",
   "metadata": {},
   "outputs": [
    {
     "data": {
      "text/plain": [
       "0.13514610737849317"
      ]
     },
     "execution_count": 26,
     "metadata": {},
     "output_type": "execute_result"
    }
   ],
   "source": [
    "#correlation between gubernatorial votes in the states and COVID-19 deaths\n",
    "governor_votes.corr(norm_mean_deaths)"
   ]
  },
  {
   "cell_type": "markdown",
   "id": "e2fdf985",
   "metadata": {},
   "source": [
    "**Interpretation:**\n",
    "\n",
    "* Correlation coefficient between gubernatorial votes in the states and new COVID-19 cases in the US is 0.031. It means that there is a very weak but positive linear relationship between difference in votes between Democrat and Republican party, and the incidence of COVID-19 cases. A lower or negative difference (meaning Republicans got more votes) is associated with decrease in new cases.\n",
    "\n",
    "* Correlation coefficient between gubernatorial votes in the states and COVID-19 deaths in the US is 0.135. It means that there is a weak but positive linear relationship between difference in votes between Democrat and Republican party, and COVID-19 deaths. A lower or negative difference (meaning Republicans got more votes) is associated with decrease in deaths.\n",
    "\n",
    "**NOTE:** There were very few states with gubernatorial election results available (11 states)."
   ]
  },
  {
   "cell_type": "markdown",
   "id": "ac6a6da9",
   "metadata": {},
   "source": [
    "**C) Senate election results 2020**"
   ]
  },
  {
   "cell_type": "code",
   "execution_count": 27,
   "id": "9e72b2ef",
   "metadata": {},
   "outputs": [
    {
     "name": "stdout",
     "output_type": "stream",
     "text": [
      "       diff_votes\n",
      "state            \n",
      "DE         -62515\n",
      "GA        -629888\n",
      "ID         246938\n",
      "IL       -1149369\n",
      "IA          69608\n"
     ]
    }
   ],
   "source": [
    "senate = pd.read_csv(\"../../../../data/stage_3/state_senate_votes.csv\")\n",
    "senate = senate.drop(['state_name','dem_votes','rep_votes'], axis=1)\n",
    "senate.set_index('state', inplace=True)\n",
    "print(senate.head())"
   ]
  },
  {
   "cell_type": "code",
   "execution_count": 28,
   "id": "fe3ccf21",
   "metadata": {},
   "outputs": [
    {
     "name": "stdout",
     "output_type": "stream",
     "text": [
      "state\n",
      "AK     5.931009\n",
      "AL     8.090598\n",
      "AR    -2.851279\n",
      "AZ   -13.407349\n",
      "CA          NaN\n",
      "Name: diff_votes, dtype: float64\n"
     ]
    }
   ],
   "source": [
    "senate_votes_norm = senate.div(p, axis=0)\n",
    "senate_votes_norm = senate_votes_norm*100\n",
    "senate_votes = senate_votes_norm.squeeze()\n",
    "print(senate_votes.head())"
   ]
  },
  {
   "cell_type": "code",
   "execution_count": 29,
   "id": "5a095e18",
   "metadata": {},
   "outputs": [
    {
     "data": {
      "text/plain": [
       "0.20448396650352382"
      ]
     },
     "execution_count": 29,
     "metadata": {},
     "output_type": "execute_result"
    }
   ],
   "source": [
    "#correlation between senatorial votes in the states and new COVID-19 cases\n",
    "senate_votes.corr(norm_mean_newcases)"
   ]
  },
  {
   "cell_type": "code",
   "execution_count": 30,
   "id": "fe3522ad",
   "metadata": {},
   "outputs": [
    {
     "data": {
      "text/plain": [
       "-0.006906838206587602"
      ]
     },
     "execution_count": 30,
     "metadata": {},
     "output_type": "execute_result"
    }
   ],
   "source": [
    "#correlation between senatorial votes in the states and COVID-19 deaths\n",
    "senate_votes.corr(norm_mean_deaths)"
   ]
  },
  {
   "cell_type": "markdown",
   "id": "5a02fac5",
   "metadata": {},
   "source": [
    "**Interpretation:**\n",
    "\n",
    "* Correlation coefficient between senatorial votes in the states and new COVID-19 cases in the US is 0.205. It means that there is a weak but positive linear relationship between difference in votes between Democrat and Republican party, and the incidence of COVID-19 cases. A lower or negative difference (meaning Republicans got more votes) is associated with decrease in new cases.\n",
    "\n",
    "* Correlation coefficient between senatorial votes in the states and COVID-19 deaths in the US is -0.007. It means that there is a weak but positive linear relationship between difference in votes between Democrat and Republican party, and COVID-19 deaths. A lower or negative difference (meaning Republicans got more votes) is associated with decrease in deaths.\n",
    "\n",
    "**NOTE:** There were 34 states with senatorial election results available out of all the states in the US."
   ]
  },
  {
   "cell_type": "markdown",
   "id": "013dfc89",
   "metadata": {},
   "source": [
    "### Task 4: Formulate hypothesis between Enrichment data and number of cases to be compared against states. Choose three different variables to compare against."
   ]
  },
  {
   "cell_type": "markdown",
   "id": "bf4a8e35",
   "metadata": {},
   "source": [
    "Please see the Phase 3 report."
   ]
  }
 ],
 "metadata": {
  "kernelspec": {
   "display_name": "Python 3 (ipykernel)",
   "language": "python",
   "name": "python3"
  },
  "language_info": {
   "codemirror_mode": {
    "name": "ipython",
    "version": 3
   },
   "file_extension": ".py",
   "mimetype": "text/x-python",
   "name": "python",
   "nbconvert_exporter": "python",
   "pygments_lexer": "ipython3",
   "version": "3.9.7"
  }
 },
 "nbformat": 4,
 "nbformat_minor": 5
}
